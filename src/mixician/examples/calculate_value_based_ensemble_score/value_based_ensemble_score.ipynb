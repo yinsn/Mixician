{
 "cells": [
  {
   "cell_type": "code",
   "execution_count": 1,
   "metadata": {},
   "outputs": [],
   "source": [
    "import mixician as mc"
   ]
  },
  {
   "cell_type": "code",
   "execution_count": 2,
   "metadata": {},
   "outputs": [
    {
     "name": "stderr",
     "output_type": "stream",
     "text": [
      "2024-03-01 16:54:03,649 - INFO - Generating mixed rank test samples for 100000 rows...\n"
     ]
    }
   ],
   "source": [
    "samples = mc.create_mix_rank_test_samples(\n",
    "    rows = 100000,\n",
    "    num_page_types = 5,\n",
    "    num_features= 8,\n",
    ")"
   ]
  },
  {
   "cell_type": "code",
   "execution_count": 3,
   "metadata": {},
   "outputs": [
    {
     "data": {
      "text/html": [
       "<div>\n",
       "<style scoped>\n",
       "    .dataframe tbody tr th:only-of-type {\n",
       "        vertical-align: middle;\n",
       "    }\n",
       "\n",
       "    .dataframe tbody tr th {\n",
       "        vertical-align: top;\n",
       "    }\n",
       "\n",
       "    .dataframe thead th {\n",
       "        text-align: right;\n",
       "    }\n",
       "</style>\n",
       "<table border=\"1\" class=\"dataframe\">\n",
       "  <thead>\n",
       "    <tr style=\"text-align: right;\">\n",
       "      <th></th>\n",
       "      <th>request_id</th>\n",
       "      <th>item_id</th>\n",
       "      <th>category</th>\n",
       "      <th>pxtr_1</th>\n",
       "      <th>pxtr_2</th>\n",
       "      <th>pxtr_3</th>\n",
       "      <th>pxtr_4</th>\n",
       "      <th>pxtr_5</th>\n",
       "      <th>pxtr_6</th>\n",
       "      <th>pxtr_7</th>\n",
       "      <th>pxtr_8</th>\n",
       "    </tr>\n",
       "  </thead>\n",
       "  <tbody>\n",
       "    <tr>\n",
       "      <th>0</th>\n",
       "      <td>1</td>\n",
       "      <td>45944</td>\n",
       "      <td>page_type_5</td>\n",
       "      <td>0.004524</td>\n",
       "      <td>0.280476</td>\n",
       "      <td>0.088792</td>\n",
       "      <td>0.129522</td>\n",
       "      <td>0.008272</td>\n",
       "      <td>0.002864</td>\n",
       "      <td>0.001624</td>\n",
       "      <td>0.231959</td>\n",
       "    </tr>\n",
       "    <tr>\n",
       "      <th>1</th>\n",
       "      <td>1</td>\n",
       "      <td>83432</td>\n",
       "      <td>page_type_3</td>\n",
       "      <td>0.011001</td>\n",
       "      <td>0.363467</td>\n",
       "      <td>0.088847</td>\n",
       "      <td>0.076425</td>\n",
       "      <td>0.001847</td>\n",
       "      <td>0.002440</td>\n",
       "      <td>0.001733</td>\n",
       "      <td>0.193892</td>\n",
       "    </tr>\n",
       "    <tr>\n",
       "      <th>2</th>\n",
       "      <td>1</td>\n",
       "      <td>41070</td>\n",
       "      <td>page_type_2</td>\n",
       "      <td>0.012248</td>\n",
       "      <td>0.311248</td>\n",
       "      <td>0.087965</td>\n",
       "      <td>0.058804</td>\n",
       "      <td>0.001027</td>\n",
       "      <td>0.001823</td>\n",
       "      <td>0.001924</td>\n",
       "      <td>0.241920</td>\n",
       "    </tr>\n",
       "    <tr>\n",
       "      <th>3</th>\n",
       "      <td>1</td>\n",
       "      <td>83555</td>\n",
       "      <td>page_type_5</td>\n",
       "      <td>0.011018</td>\n",
       "      <td>0.092491</td>\n",
       "      <td>0.086185</td>\n",
       "      <td>0.029981</td>\n",
       "      <td>0.004477</td>\n",
       "      <td>0.003101</td>\n",
       "      <td>0.001844</td>\n",
       "      <td>0.197192</td>\n",
       "    </tr>\n",
       "    <tr>\n",
       "      <th>4</th>\n",
       "      <td>1</td>\n",
       "      <td>53409</td>\n",
       "      <td>page_type_4</td>\n",
       "      <td>0.008541</td>\n",
       "      <td>0.269474</td>\n",
       "      <td>0.087474</td>\n",
       "      <td>0.022930</td>\n",
       "      <td>0.007070</td>\n",
       "      <td>0.002209</td>\n",
       "      <td>0.001428</td>\n",
       "      <td>0.219974</td>\n",
       "    </tr>\n",
       "    <tr>\n",
       "      <th>...</th>\n",
       "      <td>...</td>\n",
       "      <td>...</td>\n",
       "      <td>...</td>\n",
       "      <td>...</td>\n",
       "      <td>...</td>\n",
       "      <td>...</td>\n",
       "      <td>...</td>\n",
       "      <td>...</td>\n",
       "      <td>...</td>\n",
       "      <td>...</td>\n",
       "      <td>...</td>\n",
       "    </tr>\n",
       "    <tr>\n",
       "      <th>99995</th>\n",
       "      <td>1000</td>\n",
       "      <td>95297</td>\n",
       "      <td>page_type_1</td>\n",
       "      <td>0.026340</td>\n",
       "      <td>0.080692</td>\n",
       "      <td>0.085260</td>\n",
       "      <td>0.013362</td>\n",
       "      <td>0.000545</td>\n",
       "      <td>0.002566</td>\n",
       "      <td>0.001345</td>\n",
       "      <td>0.164219</td>\n",
       "    </tr>\n",
       "    <tr>\n",
       "      <th>99996</th>\n",
       "      <td>1000</td>\n",
       "      <td>62829</td>\n",
       "      <td>page_type_4</td>\n",
       "      <td>0.022315</td>\n",
       "      <td>0.309713</td>\n",
       "      <td>0.086904</td>\n",
       "      <td>0.029810</td>\n",
       "      <td>0.002397</td>\n",
       "      <td>0.002193</td>\n",
       "      <td>0.001741</td>\n",
       "      <td>0.144301</td>\n",
       "    </tr>\n",
       "    <tr>\n",
       "      <th>99997</th>\n",
       "      <td>1000</td>\n",
       "      <td>62833</td>\n",
       "      <td>page_type_2</td>\n",
       "      <td>0.008151</td>\n",
       "      <td>0.284323</td>\n",
       "      <td>0.089324</td>\n",
       "      <td>0.009383</td>\n",
       "      <td>0.006130</td>\n",
       "      <td>0.003303</td>\n",
       "      <td>0.001719</td>\n",
       "      <td>0.221475</td>\n",
       "    </tr>\n",
       "    <tr>\n",
       "      <th>99998</th>\n",
       "      <td>1000</td>\n",
       "      <td>23976</td>\n",
       "      <td>page_type_4</td>\n",
       "      <td>0.027323</td>\n",
       "      <td>0.440294</td>\n",
       "      <td>0.086388</td>\n",
       "      <td>0.057360</td>\n",
       "      <td>0.004879</td>\n",
       "      <td>0.002466</td>\n",
       "      <td>0.001676</td>\n",
       "      <td>0.154906</td>\n",
       "    </tr>\n",
       "    <tr>\n",
       "      <th>99999</th>\n",
       "      <td>1000</td>\n",
       "      <td>50331</td>\n",
       "      <td>page_type_1</td>\n",
       "      <td>0.018640</td>\n",
       "      <td>0.376136</td>\n",
       "      <td>0.085926</td>\n",
       "      <td>0.161503</td>\n",
       "      <td>0.010756</td>\n",
       "      <td>0.003858</td>\n",
       "      <td>0.001620</td>\n",
       "      <td>0.166316</td>\n",
       "    </tr>\n",
       "  </tbody>\n",
       "</table>\n",
       "<p>100000 rows × 11 columns</p>\n",
       "</div>"
      ],
      "text/plain": [
       "       request_id  item_id     category    pxtr_1    pxtr_2    pxtr_3  \\\n",
       "0               1    45944  page_type_5  0.004524  0.280476  0.088792   \n",
       "1               1    83432  page_type_3  0.011001  0.363467  0.088847   \n",
       "2               1    41070  page_type_2  0.012248  0.311248  0.087965   \n",
       "3               1    83555  page_type_5  0.011018  0.092491  0.086185   \n",
       "4               1    53409  page_type_4  0.008541  0.269474  0.087474   \n",
       "...           ...      ...          ...       ...       ...       ...   \n",
       "99995        1000    95297  page_type_1  0.026340  0.080692  0.085260   \n",
       "99996        1000    62829  page_type_4  0.022315  0.309713  0.086904   \n",
       "99997        1000    62833  page_type_2  0.008151  0.284323  0.089324   \n",
       "99998        1000    23976  page_type_4  0.027323  0.440294  0.086388   \n",
       "99999        1000    50331  page_type_1  0.018640  0.376136  0.085926   \n",
       "\n",
       "         pxtr_4    pxtr_5    pxtr_6    pxtr_7    pxtr_8  \n",
       "0      0.129522  0.008272  0.002864  0.001624  0.231959  \n",
       "1      0.076425  0.001847  0.002440  0.001733  0.193892  \n",
       "2      0.058804  0.001027  0.001823  0.001924  0.241920  \n",
       "3      0.029981  0.004477  0.003101  0.001844  0.197192  \n",
       "4      0.022930  0.007070  0.002209  0.001428  0.219974  \n",
       "...         ...       ...       ...       ...       ...  \n",
       "99995  0.013362  0.000545  0.002566  0.001345  0.164219  \n",
       "99996  0.029810  0.002397  0.002193  0.001741  0.144301  \n",
       "99997  0.009383  0.006130  0.003303  0.001719  0.221475  \n",
       "99998  0.057360  0.004879  0.002466  0.001676  0.154906  \n",
       "99999  0.161503  0.010756  0.003858  0.001620  0.166316  \n",
       "\n",
       "[100000 rows x 11 columns]"
      ]
     },
     "execution_count": 3,
     "metadata": {},
     "output_type": "execute_result"
    }
   ],
   "source": [
    "samples"
   ]
  },
  {
   "cell_type": "code",
   "execution_count": 4,
   "metadata": {},
   "outputs": [
    {
     "name": "stderr",
     "output_type": "stream",
     "text": [
      "2024-03-01 16:54:04,414 - INFO - Loading configuration from /Users/yin/Projects/Mixician/src/mixician/examples/calculate_value_based_ensemble_score/config_case_01.yml...\n"
     ]
    }
   ],
   "source": [
    "config = mc.load_config(\n",
    "    file_path=\"config_case_01.yml\",\n",
    ")"
   ]
  },
  {
   "cell_type": "code",
   "execution_count": 5,
   "metadata": {},
   "outputs": [
    {
     "name": "stderr",
     "output_type": "stream",
     "text": [
      "2024-03-01 16:54:04,419 - INFO - Preprocessing data for PCA calculation...\n",
      "2024-03-01 16:54:04,422 - INFO - Applying logarithm transformation to data...\n",
      "2024-03-01 16:54:04,427 - INFO - Normalizing variables in data...\n"
     ]
    }
   ],
   "source": [
    "pca = mc.PCACalculator(\n",
    "    dataframe=samples,\n",
    "    config=config['PCACalculator'],\n",
    ")"
   ]
  },
  {
   "cell_type": "code",
   "execution_count": 6,
   "metadata": {},
   "outputs": [
    {
     "name": "stderr",
     "output_type": "stream",
     "text": [
      "2024-03-01 16:54:05,059 - INFO - Performing weighted PCA on the normalized data...\n"
     ]
    }
   ],
   "source": [
    "pca.calculate()"
   ]
  }
 ],
 "metadata": {
  "kernelspec": {
   "display_name": "mixician-DXIQWfTd-py3.9",
   "language": "python",
   "name": "python3"
  },
  "language_info": {
   "codemirror_mode": {
    "name": "ipython",
    "version": 3
   },
   "file_extension": ".py",
   "mimetype": "text/x-python",
   "name": "python",
   "nbconvert_exporter": "python",
   "pygments_lexer": "ipython3",
   "version": "3.9.6"
  }
 },
 "nbformat": 4,
 "nbformat_minor": 2
}
