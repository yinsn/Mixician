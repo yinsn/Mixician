{
 "cells": [
  {
   "cell_type": "markdown",
   "metadata": {},
   "source": [
    "# Utilize the ParaDance framework to automatically search for optimal parameters for the product formula"
   ]
  },
  {
   "cell_type": "markdown",
   "metadata": {},
   "source": [
    "Generate a sample dataset randomly"
   ]
  },
  {
   "cell_type": "code",
   "execution_count": 1,
   "metadata": {},
   "outputs": [],
   "source": [
    "import mixician as mc"
   ]
  },
  {
   "cell_type": "code",
   "execution_count": 2,
   "metadata": {},
   "outputs": [
    {
     "name": "stderr",
     "output_type": "stream",
     "text": [
      "14:50:08 - INFO - Generating mixed rank test samples for 100000 rows...\n"
     ]
    }
   ],
   "source": [
    "samples = mc.create_mix_rank_test_samples(\n",
    "    rows = 100000,\n",
    "    num_page_types = 5,\n",
    "    num_features= 8,\n",
    "    num_boolean_labels = 1,\n",
    "    num_numeric_labels = 1,\n",
    ")"
   ]
  },
  {
   "cell_type": "markdown",
   "metadata": {},
   "source": [
    "Fabricated a dataset like this, where there are 8 features in p_xtr, along with one column of boolean type labels and one column of numeric type labels."
   ]
  },
  {
   "cell_type": "code",
   "execution_count": 3,
   "metadata": {},
   "outputs": [
    {
     "data": {
      "text/html": [
       "<div>\n",
       "<style scoped>\n",
       "    .dataframe tbody tr th:only-of-type {\n",
       "        vertical-align: middle;\n",
       "    }\n",
       "\n",
       "    .dataframe tbody tr th {\n",
       "        vertical-align: top;\n",
       "    }\n",
       "\n",
       "    .dataframe thead th {\n",
       "        text-align: right;\n",
       "    }\n",
       "</style>\n",
       "<table border=\"1\" class=\"dataframe\">\n",
       "  <thead>\n",
       "    <tr style=\"text-align: right;\">\n",
       "      <th></th>\n",
       "      <th>request_id</th>\n",
       "      <th>item_id</th>\n",
       "      <th>category</th>\n",
       "      <th>pxtr_1</th>\n",
       "      <th>pxtr_2</th>\n",
       "      <th>pxtr_3</th>\n",
       "      <th>pxtr_4</th>\n",
       "      <th>pxtr_5</th>\n",
       "      <th>pxtr_6</th>\n",
       "      <th>pxtr_7</th>\n",
       "      <th>pxtr_8</th>\n",
       "      <th>boolean_label_1</th>\n",
       "      <th>numeric_label_1</th>\n",
       "    </tr>\n",
       "  </thead>\n",
       "  <tbody>\n",
       "    <tr>\n",
       "      <th>0</th>\n",
       "      <td>1</td>\n",
       "      <td>45944</td>\n",
       "      <td>page_type_5</td>\n",
       "      <td>0.004524</td>\n",
       "      <td>0.280476</td>\n",
       "      <td>0.088792</td>\n",
       "      <td>0.129522</td>\n",
       "      <td>0.008272</td>\n",
       "      <td>0.002864</td>\n",
       "      <td>0.001624</td>\n",
       "      <td>0.231959</td>\n",
       "      <td>0</td>\n",
       "      <td>0.0</td>\n",
       "    </tr>\n",
       "    <tr>\n",
       "      <th>1</th>\n",
       "      <td>1</td>\n",
       "      <td>83432</td>\n",
       "      <td>page_type_3</td>\n",
       "      <td>0.011001</td>\n",
       "      <td>0.363467</td>\n",
       "      <td>0.088847</td>\n",
       "      <td>0.076425</td>\n",
       "      <td>0.001847</td>\n",
       "      <td>0.002440</td>\n",
       "      <td>0.001733</td>\n",
       "      <td>0.193892</td>\n",
       "      <td>0</td>\n",
       "      <td>0.0</td>\n",
       "    </tr>\n",
       "    <tr>\n",
       "      <th>2</th>\n",
       "      <td>1</td>\n",
       "      <td>41070</td>\n",
       "      <td>page_type_2</td>\n",
       "      <td>0.012248</td>\n",
       "      <td>0.311248</td>\n",
       "      <td>0.087965</td>\n",
       "      <td>0.058804</td>\n",
       "      <td>0.001027</td>\n",
       "      <td>0.001823</td>\n",
       "      <td>0.001924</td>\n",
       "      <td>0.241920</td>\n",
       "      <td>0</td>\n",
       "      <td>0.0</td>\n",
       "    </tr>\n",
       "    <tr>\n",
       "      <th>3</th>\n",
       "      <td>1</td>\n",
       "      <td>83555</td>\n",
       "      <td>page_type_5</td>\n",
       "      <td>0.011018</td>\n",
       "      <td>0.092491</td>\n",
       "      <td>0.086185</td>\n",
       "      <td>0.029981</td>\n",
       "      <td>0.004477</td>\n",
       "      <td>0.003101</td>\n",
       "      <td>0.001844</td>\n",
       "      <td>0.197192</td>\n",
       "      <td>0</td>\n",
       "      <td>0.0</td>\n",
       "    </tr>\n",
       "    <tr>\n",
       "      <th>4</th>\n",
       "      <td>1</td>\n",
       "      <td>53409</td>\n",
       "      <td>page_type_4</td>\n",
       "      <td>0.008541</td>\n",
       "      <td>0.269474</td>\n",
       "      <td>0.087474</td>\n",
       "      <td>0.022930</td>\n",
       "      <td>0.007070</td>\n",
       "      <td>0.002209</td>\n",
       "      <td>0.001428</td>\n",
       "      <td>0.219974</td>\n",
       "      <td>0</td>\n",
       "      <td>0.0</td>\n",
       "    </tr>\n",
       "    <tr>\n",
       "      <th>...</th>\n",
       "      <td>...</td>\n",
       "      <td>...</td>\n",
       "      <td>...</td>\n",
       "      <td>...</td>\n",
       "      <td>...</td>\n",
       "      <td>...</td>\n",
       "      <td>...</td>\n",
       "      <td>...</td>\n",
       "      <td>...</td>\n",
       "      <td>...</td>\n",
       "      <td>...</td>\n",
       "      <td>...</td>\n",
       "      <td>...</td>\n",
       "    </tr>\n",
       "    <tr>\n",
       "      <th>99995</th>\n",
       "      <td>1000</td>\n",
       "      <td>95297</td>\n",
       "      <td>page_type_1</td>\n",
       "      <td>0.026340</td>\n",
       "      <td>0.080692</td>\n",
       "      <td>0.085260</td>\n",
       "      <td>0.013362</td>\n",
       "      <td>0.000545</td>\n",
       "      <td>0.002566</td>\n",
       "      <td>0.001345</td>\n",
       "      <td>0.164219</td>\n",
       "      <td>0</td>\n",
       "      <td>0.0</td>\n",
       "    </tr>\n",
       "    <tr>\n",
       "      <th>99996</th>\n",
       "      <td>1000</td>\n",
       "      <td>62829</td>\n",
       "      <td>page_type_4</td>\n",
       "      <td>0.022315</td>\n",
       "      <td>0.309713</td>\n",
       "      <td>0.086904</td>\n",
       "      <td>0.029810</td>\n",
       "      <td>0.002397</td>\n",
       "      <td>0.002193</td>\n",
       "      <td>0.001741</td>\n",
       "      <td>0.144301</td>\n",
       "      <td>0</td>\n",
       "      <td>0.0</td>\n",
       "    </tr>\n",
       "    <tr>\n",
       "      <th>99997</th>\n",
       "      <td>1000</td>\n",
       "      <td>62833</td>\n",
       "      <td>page_type_2</td>\n",
       "      <td>0.008151</td>\n",
       "      <td>0.284323</td>\n",
       "      <td>0.089324</td>\n",
       "      <td>0.009383</td>\n",
       "      <td>0.006130</td>\n",
       "      <td>0.003303</td>\n",
       "      <td>0.001719</td>\n",
       "      <td>0.221475</td>\n",
       "      <td>0</td>\n",
       "      <td>0.0</td>\n",
       "    </tr>\n",
       "    <tr>\n",
       "      <th>99998</th>\n",
       "      <td>1000</td>\n",
       "      <td>23976</td>\n",
       "      <td>page_type_4</td>\n",
       "      <td>0.027323</td>\n",
       "      <td>0.440294</td>\n",
       "      <td>0.086388</td>\n",
       "      <td>0.057360</td>\n",
       "      <td>0.004879</td>\n",
       "      <td>0.002466</td>\n",
       "      <td>0.001676</td>\n",
       "      <td>0.154906</td>\n",
       "      <td>0</td>\n",
       "      <td>0.0</td>\n",
       "    </tr>\n",
       "    <tr>\n",
       "      <th>99999</th>\n",
       "      <td>1000</td>\n",
       "      <td>50331</td>\n",
       "      <td>page_type_1</td>\n",
       "      <td>0.018640</td>\n",
       "      <td>0.376136</td>\n",
       "      <td>0.085926</td>\n",
       "      <td>0.161503</td>\n",
       "      <td>0.010756</td>\n",
       "      <td>0.003858</td>\n",
       "      <td>0.001620</td>\n",
       "      <td>0.166316</td>\n",
       "      <td>1</td>\n",
       "      <td>0.0</td>\n",
       "    </tr>\n",
       "  </tbody>\n",
       "</table>\n",
       "<p>100000 rows × 13 columns</p>\n",
       "</div>"
      ],
      "text/plain": [
       "       request_id  item_id     category    pxtr_1    pxtr_2    pxtr_3  \\\n",
       "0               1    45944  page_type_5  0.004524  0.280476  0.088792   \n",
       "1               1    83432  page_type_3  0.011001  0.363467  0.088847   \n",
       "2               1    41070  page_type_2  0.012248  0.311248  0.087965   \n",
       "3               1    83555  page_type_5  0.011018  0.092491  0.086185   \n",
       "4               1    53409  page_type_4  0.008541  0.269474  0.087474   \n",
       "...           ...      ...          ...       ...       ...       ...   \n",
       "99995        1000    95297  page_type_1  0.026340  0.080692  0.085260   \n",
       "99996        1000    62829  page_type_4  0.022315  0.309713  0.086904   \n",
       "99997        1000    62833  page_type_2  0.008151  0.284323  0.089324   \n",
       "99998        1000    23976  page_type_4  0.027323  0.440294  0.086388   \n",
       "99999        1000    50331  page_type_1  0.018640  0.376136  0.085926   \n",
       "\n",
       "         pxtr_4    pxtr_5    pxtr_6    pxtr_7    pxtr_8  boolean_label_1  \\\n",
       "0      0.129522  0.008272  0.002864  0.001624  0.231959                0   \n",
       "1      0.076425  0.001847  0.002440  0.001733  0.193892                0   \n",
       "2      0.058804  0.001027  0.001823  0.001924  0.241920                0   \n",
       "3      0.029981  0.004477  0.003101  0.001844  0.197192                0   \n",
       "4      0.022930  0.007070  0.002209  0.001428  0.219974                0   \n",
       "...         ...       ...       ...       ...       ...              ...   \n",
       "99995  0.013362  0.000545  0.002566  0.001345  0.164219                0   \n",
       "99996  0.029810  0.002397  0.002193  0.001741  0.144301                0   \n",
       "99997  0.009383  0.006130  0.003303  0.001719  0.221475                0   \n",
       "99998  0.057360  0.004879  0.002466  0.001676  0.154906                0   \n",
       "99999  0.161503  0.010756  0.003858  0.001620  0.166316                1   \n",
       "\n",
       "       numeric_label_1  \n",
       "0                  0.0  \n",
       "1                  0.0  \n",
       "2                  0.0  \n",
       "3                  0.0  \n",
       "4                  0.0  \n",
       "...                ...  \n",
       "99995              0.0  \n",
       "99996              0.0  \n",
       "99997              0.0  \n",
       "99998              0.0  \n",
       "99999              0.0  \n",
       "\n",
       "[100000 rows x 13 columns]"
      ]
     },
     "execution_count": 3,
     "metadata": {},
     "output_type": "execute_result"
    }
   ],
   "source": [
    "samples"
   ]
  },
  {
   "cell_type": "markdown",
   "metadata": {},
   "source": [
    "Utilize the ParaDance framework to automatically optimize based on the objectives defined in the configuration file.\n",
    "\n",
    "For more details on the ParaDance framework, please refer to its GitHub repository at [ParaDance](https://github.com/yinsn/ParaDance)."
   ]
  },
  {
   "cell_type": "code",
   "execution_count": 4,
   "metadata": {},
   "outputs": [],
   "source": [
    "from paradance import LogarithmPCAPipeline"
   ]
  },
  {
   "cell_type": "markdown",
   "metadata": {},
   "source": [
    "The configuration file, named 'config_case_03.yml', outlines four key components: DataLoader, Calculator, Objective, and Evaluator. \n",
    "\n",
    "These components correspond to the method of data loading, the form of fusion calculation, the definition of multi-objectives, and the mode of sub-objective evaluation, respectively.\n",
    "\n",
    "Automate parameter search using the pipeline supported by ParaDance."
   ]
  },
  {
   "cell_type": "code",
   "execution_count": null,
   "metadata": {},
   "outputs": [],
   "source": [
    "pipe = LogarithmPCAPipeline(\n",
    "    config_path='config_case_03.yml',\n",
    "    n_trials=200,\n",
    ")"
   ]
  },
  {
   "cell_type": "markdown",
   "metadata": {},
   "source": [
    "The show_results() function initially displays the distribution shape of each feature in the logarithmic domain. \n",
    "\n",
    "It then presents the distribution of the product formula's fusion score in the logarithmic domain, and finally, it outlines the formulaic expression. \n",
    "\n",
    "Notably, variance importance is the actual object of the parameter search, although it is not directly reflected in the formulaic results."
   ]
  },
  {
   "cell_type": "code",
   "execution_count": 6,
   "metadata": {},
   "outputs": [
    {
     "name": "stderr",
     "output_type": "stream",
     "text": [
      "14:50:30 - INFO - Plotting logarithm distributions before Logarithm PCA optimization.\n"
     ]
    },
    {
     "data": {
      "image/png": "[encoded data removed]",
      "text/plain": [
       "<Figure size 1000x300 with 1 Axes>"
      ]
     },
     "metadata": {},
     "output_type": "display_data"
    },
    {
     "name": "stderr",
     "output_type": "stream",
     "text": [
      "14:50:31 - INFO - Calculating weighted PCA...\n",
      "14:50:31 - INFO - Performing weighted logarithm PCA on the normalized data...\n",
      "14:50:31 - INFO - Calculating cumulative product of scores...\n"
     ]
    },
    {
     "data": {
      "image/png": "[encoded data removed]",
      "text/plain": [
       "<Figure size 1000x300 with 1 Axes>"
      ]
     },
     "metadata": {},
     "output_type": "display_data"
    },
    {
     "name": "stderr",
     "output_type": "stream",
     "text": [
      "14:50:31 - INFO - Best parameters for PCA with logarithmic transformations:\n",
      "14:50:31 - INFO - \n",
      "\n",
      "column: \t\t\t pxtr_1\n",
      "variance importance: \t\t 8.232304158664684\n",
      "first_order_weights: \t\t 563.2315084665923\n",
      "power_weights: \t\t\t 0.2760513664176999\n",
      "\n",
      "\n",
      "\n",
      "column: \t\t\t pxtr_2\n",
      "variance importance: \t\t 7.310435029767011\n",
      "first_order_weights: \t\t 18.049005885629818\n",
      "power_weights: \t\t\t 0.02770236050613377\n",
      "\n",
      "\n",
      "\n",
      "column: \t\t\t pxtr_3\n",
      "variance importance: \t\t 5.032512559685438\n",
      "first_order_weights: \t\t 65.99409975431612\n",
      "power_weights: \t\t\t -3.901539896829287e-05\n",
      "\n",
      "\n",
      "\n",
      "column: \t\t\t pxtr_4\n",
      "variance importance: \t\t 5.106204243036952\n",
      "first_order_weights: \t\t 146.89666974561797\n",
      "power_weights: \t\t\t 0.3551205801303622\n",
      "\n"
     ]
    },
    {
     "data": {
      "text/latex": [
       "$ \\prod_{i=1}^{4} (1 + 563.232 \\cdot \\text{pxtr\\_1})^{0.276051} \\times (1 + 18.049 \\cdot \\text{pxtr\\_2})^{0.0277024} \\times (1 + 65.9941 \\cdot \\text{pxtr\\_3})^{-3.90154e-05} \\times (1 + 146.897 \\cdot \\text{pxtr\\_4})^{0.355121} $"
      ],
      "text/plain": [
       "<IPython.core.display.Latex object>"
      ]
     },
     "metadata": {},
     "output_type": "display_data"
    }
   ],
   "source": [
    "pipe.show_results()"
   ]
  }
 ],
 "metadata": {
  "kernelspec": {
   "display_name": "paradance",
   "language": "python",
   "name": "paradance"
  },
  "language_info": {
   "codemirror_mode": {
    "name": "ipython",
    "version": 3
   },
   "file_extension": ".py",
   "mimetype": "text/x-python",
   "name": "python",
   "nbconvert_exporter": "python",
   "pygments_lexer": "ipython3",
   "version": "3.9.18"
  }
 },
 "nbformat": 4,
 "nbformat_minor": 2
}
